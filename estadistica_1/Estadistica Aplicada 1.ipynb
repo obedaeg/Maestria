{
 "cells": [
  {
   "cell_type": "markdown",
   "metadata": {},
   "source": [
    "# Proyecto\n",
    "\n",
    "## Espacio Muestral\n",
    "Un espacio muestral asociado a un experimento es el conjunto de formado por todos los posibles puntos muestrales. Los espacios muestrales generalmente se denotan con la letra S."
   ]
  },
  {
   "cell_type": "code",
   "execution_count": 1,
   "metadata": {},
   "outputs": [
    {
     "data": {
      "text/html": [
       "<table>\n",
       "<thead><tr><th scope=col>Moneda 1</th><th scope=col>Moneda 2</th></tr></thead>\n",
       "<tbody>\n",
       "\t<tr><td>cara  </td><td>cara  </td></tr>\n",
       "\t<tr><td>escudo</td><td>cara  </td></tr>\n",
       "\t<tr><td>cara  </td><td>escudo</td></tr>\n",
       "\t<tr><td>escudo</td><td>escudo</td></tr>\n",
       "</tbody>\n",
       "</table>\n"
      ],
      "text/latex": [
       "\\begin{tabular}{r|ll}\n",
       " Moneda 1 & Moneda 2\\\\\n",
       "\\hline\n",
       "\t cara   & cara  \\\\\n",
       "\t escudo & cara  \\\\\n",
       "\t cara   & escudo\\\\\n",
       "\t escudo & escudo\\\\\n",
       "\\end{tabular}\n"
      ],
      "text/markdown": [
       "\n",
       "Moneda 1 | Moneda 2 | \n",
       "|---|---|---|---|\n",
       "| cara   | cara   | \n",
       "| escudo | cara   | \n",
       "| cara   | escudo | \n",
       "| escudo | escudo | \n",
       "\n",
       "\n"
      ],
      "text/plain": [
       "  Moneda 1 Moneda 2\n",
       "1 cara     cara    \n",
       "2 escudo   cara    \n",
       "3 cara     escudo  \n",
       "4 escudo   escudo  "
      ]
     },
     "metadata": {},
     "output_type": "display_data"
    }
   ],
   "source": [
    "S1 <- c('cara', 'escudo')\n",
    "#Este código genera un espacio muestral para el lanzamiento de una moneda\n",
    "S2 <- 1:6\n",
    "#Este código genera un espacio muestral para el lanzamiento de un dado\n",
    "\n",
    "moneda <- c('cara', 'escudo')\n",
    "\n",
    "S3 <- expand.grid(moneda, moneda)\n",
    "colnames(S3) <- c('Moneda 1', 'Moneda 2')\n",
    "S3\n",
    "#Este código genera un espacio muestral con la combinación del #lanzamiento de dos monedas"
   ]
  },
  {
   "cell_type": "markdown",
   "metadata": {},
   "source": [
    "## Eventos\n",
    "Un evento es un subconjunto de sucesos o puntos muestrales dentro del Espacio Muestral."
   ]
  },
  {
   "cell_type": "code",
   "execution_count": 2,
   "metadata": {},
   "outputs": [
    {
     "data": {
      "text/html": [
       "<table>\n",
       "<thead><tr><th></th><th scope=col>Dado1</th><th scope=col>Dado2</th></tr></thead>\n",
       "<tbody>\n",
       "\t<tr><th scope=row>3</th><td>3</td><td>1</td></tr>\n",
       "\t<tr><th scope=row>8</th><td>2</td><td>2</td></tr>\n",
       "\t<tr><th scope=row>13</th><td>1</td><td>3</td></tr>\n",
       "</tbody>\n",
       "</table>\n"
      ],
      "text/latex": [
       "\\begin{tabular}{r|ll}\n",
       "  & Dado1 & Dado2\\\\\n",
       "\\hline\n",
       "\t3 & 3 & 1\\\\\n",
       "\t8 & 2 & 2\\\\\n",
       "\t13 & 1 & 3\\\\\n",
       "\\end{tabular}\n"
      ],
      "text/markdown": [
       "\n",
       "| <!--/--> | Dado1 | Dado2 | \n",
       "|---|---|---|\n",
       "| 3 | 3 | 1 | \n",
       "| 8 | 2 | 2 | \n",
       "| 13 | 1 | 3 | \n",
       "\n",
       "\n"
      ],
      "text/plain": [
       "   Dado1 Dado2\n",
       "3  3     1    \n",
       "8  2     2    \n",
       "13 1     3    "
      ]
     },
     "metadata": {},
     "output_type": "display_data"
    }
   ],
   "source": [
    "dado <- 1:6\n",
    "#inicializamos los dados\n",
    "#creamos un espacio muestral con la combinación de los dados 1 y dados 2\n",
    "Sdados <- expand.grid(dado, dado)\n",
    "colnames(Sdados) <- c('Dado1', 'Dado2')\n",
    "#A Continuación vamos crear un evento o conjunto de puntos muestrales donde la suma de los dos dados\n",
    "#de como resultado 4\"\n",
    "puntos <- (Sdados$Dado1 + Sdados$Dado2) == 4\n",
    "#Esto nos devuelve un arreglo con todos los puntos que cumplen el criterio como TRUE y los \n",
    "#que no cumplen como FALSE\n",
    "evento <- Sdados[puntos,]\n",
    "#Finalmente para generar el evento debemos extraer del espacio muestral los eventos que cumplieron\n",
    "#con la condición anterior\n",
    "evento"
   ]
  },
  {
   "cell_type": "markdown",
   "metadata": {},
   "source": [
    "Como vemos el resultado está compuesto por los valores del dado 1 y el dado 2 que dan 4 así como los índices dentro del espacio muestral donde estos eventos fueron registrados."
   ]
  },
  {
   "cell_type": "markdown",
   "metadata": {},
   "source": [
    "## Algebra de Conjuntos\n",
    "\n",
    "El álgebra de conjuntos es una poderosa herramienta para analizar y delimitar espacios muestrales y eventos.\n",
    "\n",
    "### Union\n",
    "La unión de conjuntos consiste en los elementos de un evento A con los elementos de evento B para formar un nuevo conjunto."
   ]
  },
  {
   "cell_type": "code",
   "execution_count": 16,
   "metadata": {},
   "outputs": [
    {
     "data": {
      "text/html": [
       "<ol>\n",
       "\t<li><ol class=list-inline>\n",
       "\t<li>3</li>\n",
       "\t<li>2</li>\n",
       "\t<li>1</li>\n",
       "</ol>\n",
       "</li>\n",
       "\t<li><ol class=list-inline>\n",
       "\t<li>1</li>\n",
       "\t<li>2</li>\n",
       "\t<li>3</li>\n",
       "</ol>\n",
       "</li>\n",
       "\t<li><ol class=list-inline>\n",
       "\t<li>2</li>\n",
       "\t<li>4</li>\n",
       "\t<li>6</li>\n",
       "\t<li>2</li>\n",
       "\t<li>4</li>\n",
       "\t<li>6</li>\n",
       "\t<li>2</li>\n",
       "\t<li>4</li>\n",
       "\t<li>6</li>\n",
       "</ol>\n",
       "</li>\n",
       "\t<li><ol class=list-inline>\n",
       "\t<li>2</li>\n",
       "\t<li>2</li>\n",
       "\t<li>2</li>\n",
       "\t<li>4</li>\n",
       "\t<li>4</li>\n",
       "\t<li>4</li>\n",
       "\t<li>6</li>\n",
       "\t<li>6</li>\n",
       "\t<li>6</li>\n",
       "</ol>\n",
       "</li>\n",
       "</ol>\n"
      ],
      "text/latex": [
       "\\begin{enumerate}\n",
       "\\item \\begin{enumerate*}\n",
       "\\item 3\n",
       "\\item 2\n",
       "\\item 1\n",
       "\\end{enumerate*}\n",
       "\n",
       "\\item \\begin{enumerate*}\n",
       "\\item 1\n",
       "\\item 2\n",
       "\\item 3\n",
       "\\end{enumerate*}\n",
       "\n",
       "\\item \\begin{enumerate*}\n",
       "\\item 2\n",
       "\\item 4\n",
       "\\item 6\n",
       "\\item 2\n",
       "\\item 4\n",
       "\\item 6\n",
       "\\item 2\n",
       "\\item 4\n",
       "\\item 6\n",
       "\\end{enumerate*}\n",
       "\n",
       "\\item \\begin{enumerate*}\n",
       "\\item 2\n",
       "\\item 2\n",
       "\\item 2\n",
       "\\item 4\n",
       "\\item 4\n",
       "\\item 4\n",
       "\\item 6\n",
       "\\item 6\n",
       "\\item 6\n",
       "\\end{enumerate*}\n",
       "\n",
       "\\end{enumerate}\n"
      ],
      "text/markdown": [
       "1. 1. 3\n",
       "2. 2\n",
       "3. 1\n",
       "\n",
       "\n",
       "\n",
       "2. 1. 1\n",
       "2. 2\n",
       "3. 3\n",
       "\n",
       "\n",
       "\n",
       "3. 1. 2\n",
       "2. 4\n",
       "3. 6\n",
       "4. 2\n",
       "5. 4\n",
       "6. 6\n",
       "7. 2\n",
       "8. 4\n",
       "9. 6\n",
       "\n",
       "\n",
       "\n",
       "4. 1. 2\n",
       "2. 2\n",
       "3. 2\n",
       "4. 4\n",
       "5. 4\n",
       "6. 4\n",
       "7. 6\n",
       "8. 6\n",
       "9. 6\n",
       "\n",
       "\n",
       "\n",
       "\n",
       "\n"
      ],
      "text/plain": [
       "[[1]]\n",
       "[1] 3 2 1\n",
       "\n",
       "[[2]]\n",
       "[1] 1 2 3\n",
       "\n",
       "[[3]]\n",
       "[1] 2 4 6 2 4 6 2 4 6\n",
       "\n",
       "[[4]]\n",
       "[1] 2 2 2 4 4 4 6 6 6\n"
      ]
     },
     "metadata": {},
     "output_type": "display_data"
    }
   ],
   "source": [
    "dado <- 1:6\n",
    "#inicializamos los dados\n",
    "#creamos un espacio muestral con la combinación de los dados 1 y dados 2\n",
    "Sdados <- expand.grid(dado, dado)\n",
    "colnames(Sdados) <- c('Dado1', 'Dado2')\n",
    "#Del espacio muestral dado por dos conjuntos, sea A un evento que la sumatoria de los dados sea igual a 4\n",
    "puntos_a <- (Sdados$Dado1 + Sdados$Dado2) == 4\n",
    "A <- Sdados[puntos_a,]\n",
    "#Sea B un evento en donde los valores de los dados 1 y 2 son números pares\n",
    "puntos_b <- (((Sdados$Dado1 %% 2) == 0) & ((Sdados$Dado2 %% 2) == 0))\n",
    "B <- Sdados[puntos_b,]\n",
    "#Sea C la unión de los dos conjuntos\n",
    "union(A, B)"
   ]
  },
  {
   "cell_type": "markdown",
   "metadata": {},
   "source": [
    "### Interseccion\n",
    "La intersección de conjuntos se forma de los elementos de un evento A que existen en un evento B"
   ]
  },
  {
   "cell_type": "code",
   "execution_count": 17,
   "metadata": {},
   "outputs": [
    {
     "data": {
      "text/html": [],
      "text/latex": [],
      "text/markdown": [],
      "text/plain": [
       "<0 x 0 matrix>"
      ]
     },
     "metadata": {},
     "output_type": "display_data"
    }
   ],
   "source": [
    "dado <- 1:6\n",
    "#inicializamos los dados\n",
    "#creamos un espacio muestral con la combinación de los dados 1 y dados 2\n",
    "Sdados <- expand.grid(dado, dado)\n",
    "colnames(Sdados) <- c('Dado1', 'Dado2')\n",
    "#Del espacio muestral dado por dos conjuntos, sea A un evento que la sumatoria de los dados sea igual a 4\n",
    "puntos_a <- (Sdados$Dado1 + Sdados$Dado2) == 4\n",
    "A <- Sdados[puntos_a,]\n",
    "#Sea B un evento en donde los valores de los dados 1 y 2 son números pares\n",
    "puntos_b <- (((Sdados$Dado1 %% 2) == 0) & ((Sdados$Dado2 %% 2) == 0))\n",
    "B <- Sdados[puntos_b,]\n",
    "#Utilizando los eventos previamente definidos de A y B sea D la intersección de ambos eventos\n",
    "intersect(A, B)"
   ]
  },
  {
   "cell_type": "markdown",
   "metadata": {},
   "source": [
    "## Probabilidad\n",
    "La probabilidad es una medida de la creencia de un evento de ocurrir. En un espacio muestral S donde existe un evento A (donde A es un subconjunto de S) se dice que P(A) es la probabilidad de un evento A de ocurrir (es decir cualquiera de los puntos muestrales dentro de A de ocurrir). Donde se cumplen los siguientes axiomas:\n",
    "\n",
    "\\begin{align}\n",
    "{P(A)} & \\geq 0 \\\\\n",
    "{P(s)} & = 1 \\\\\n",
    "{P(A_1 \\cup A_2 \\cup A_3 \\cup \\dots \\cup A_n)} & = \\sum_{i=1}^\\infty P(A_n) \n",
    "\\end{align}\n",
    "\n",
    "En resumen la probabilidad de un Evento A se puede calcular con la siguiente fórmula: \n",
    "\\begin{align}\n",
    "{P(A)} & = \\frac{\\#A}{\\#B} \\\\\n",
    "\\end{align}\n",
    "\n",
    "Donde #A es el numero de puntos muestrales en un evento A y #S es total de puntos muestrales en el espacio muestral, o mas bien la cardinalidad A dividido la cardinalidad de S."
   ]
  },
  {
   "cell_type": "code",
   "execution_count": 20,
   "metadata": {},
   "outputs": [
    {
     "name": "stdout",
     "output_type": "stream",
     "text": [
      "cardinalidad de A:  9\n",
      "cardinalidad de B:  36\n",
      "P(A) =  0.25"
     ]
    }
   ],
   "source": [
    "#Definimos nuevamente nuestro espacio muestral siendo dos dados\n",
    "dado <- 1:6\n",
    "S <- expand.grid(dado, dado)\n",
    "colnames(S) <- c('Dado1', 'Dado2')\n",
    "#Sea un evento A definido por los valores del dado 1 y el dado 2 que son impares\n",
    "puntos_a <- (((S$Dado1 %% 2) != 0) & ((S$Dado2 %% 2) != 0))\n",
    "A <- S[puntos_a,]\n",
    "#Utilizando el comando nrow obtenemos la cardinalidad de A\n",
    "cat('cardinalidad de A: ', nrow(A))\n",
    "cat('\\n')\n",
    "#y con el mismo comando obtenemos la cardinalidad del total del espacio muestral\n",
    "cat('cardinalidad de B: ',nrow(S))\n",
    "cat('\\n')\n",
    "#por lo tanto la sea PA la P(A)\n",
    "PA <- nrow(A)/nrow(S)\n",
    "cat('P(A) = ',PA)"
   ]
  },
  {
   "cell_type": "markdown",
   "metadata": {},
   "source": [
    "## Metodos de Conteo\n",
    "Ya hemos visto la definición de espacio muestral, eventos en un espacio muestral y como calcular las probabilidades, esto nos implica conocer el número de puntos muestrales dentro del espacio muestral y del evento. Existen espacios muestrales donde sus puntos son demasiado grandes, por lo que contarlos de manera tradicional resulta demasiado complicado, para ello existen los siguientes métodos de conteo.\n",
    "\n",
    "### Permutaciones\n",
    "Una permutacion de n elementos tomados de r en r es el total de diferentes arreglos ordenados de tamaño r que pueden conseguirse de un conjunto con n elementos. La formula para calcular permutaciones es:\n",
    "\n",
    "\\begin{align}\n",
    "_{n}\\textrm{P}_r = \\frac{n!}{(n-r)!}\n",
    "\\end{align}\n",
    "\n",
    "Ejemplo:\n",
    "Supongamos que queremos extraer 3 bolas de billar de las 15 que existen, ¿Cuantas permutaciones distintas podemos obtener?\n",
    "\n",
    "\\begin{align}\n",
    "_{15}\\textrm{P}_3 & = \\frac{15!}{(15-3)!} \\\\\n",
    "_{15}\\textrm{P}_3 & = 2730\n",
    "\\end{align}\n",
    "\n",
    "Si realizamos el mismo ejercicio utilizando R"
   ]
  },
  {
   "cell_type": "code",
   "execution_count": 34,
   "metadata": {},
   "outputs": [
    {
     "name": "stderr",
     "output_type": "stream",
     "text": [
      "Updating HTML index of packages in '.Library'\n",
      "Making 'packages.html' ... done\n"
     ]
    }
   ],
   "source": [
    "#instalamos la librería gtools utilizando el siguiente comando\n",
    "install.packages('gtools')"
   ]
  },
  {
   "cell_type": "code",
   "execution_count": 35,
   "metadata": {},
   "outputs": [
    {
     "data": {
      "text/html": [
       "2730"
      ],
      "text/latex": [
       "2730"
      ],
      "text/markdown": [
       "2730"
      ],
      "text/plain": [
       "[1] 2730"
      ]
     },
     "metadata": {},
     "output_type": "display_data"
    }
   ],
   "source": [
    "#Importamos la librería gtools\n",
    "library(gtools)\n",
    "#creamos una lista de número del 1 al 15 que representarán las bolas de billar\n",
    "bolas_billar <- 1:15\n",
    "#finalmente usamos el comando permutations, para hacer el cálculo, \n",
    "#nótese que este comando genera un data frame con todas las permutaciones #posibles\n",
    "p_15_3 <- permutations(n=15,r=3, v=bolas_billar)\n",
    "#Si únicamente queremos saber la cantidad de permutaciones utilizamos el #comando nrow para esto\n",
    "nrow(p_15_3)"
   ]
  },
  {
   "cell_type": "markdown",
   "metadata": {},
   "source": [
    "**Nota**: al utilizar el comando permutations en R se debe tener cuidado de no generar un espacio muestral demasiado grande ya que esto tardaría demasiado en computar, ya que se calcula el listado con todas las permutaciones."
   ]
  },
  {
   "cell_type": "markdown",
   "metadata": {},
   "source": [
    "### Combinaciones\n",
    "Combinación de r elementos tomados de un conjunto de tamaño n es el total de diferentes subconjuntos de tamaño r que pueden conseguirse de un conjunto con n elementos. La fórmula para calcular las combinaciones es:\n",
    "\n",
    "\\begin{aligned}\n",
    "_n\\textrm{C}_r = \\frac{n!}{(n-r)!\\times r!}\n",
    "\\end{aligned}\n",
    "\n",
    "Ejemplo\n",
    "\n",
    "Calculemos cuántas combinaciones diferentes podemos obtener de manos de poker de 5 cartas con una baraja de 52 cartas, tomando en cuenta que no importa el orden en que se saquen dichas cartas. "
   ]
  },
  {
   "cell_type": "code",
   "execution_count": 33,
   "metadata": {},
   "outputs": [
    {
     "data": {
      "text/html": [
       "2598960"
      ],
      "text/latex": [
       "2598960"
      ],
      "text/markdown": [
       "2598960"
      ],
      "text/plain": [
       "[1] 2598960"
      ]
     },
     "metadata": {},
     "output_type": "display_data"
    }
   ],
   "source": [
    "#nuevamente utilizamos la librería gtools\n",
    "library(gtools)\n",
    "#y basta con generar una combinación de (52 5) de las 52 y esto nos genera el siguiente resultado\n",
    "nrow(combinations(n=52,r=5,1:52))"
   ]
  },
  {
   "cell_type": "markdown",
   "metadata": {},
   "source": [
    "Al ejecutar este código nos imprime que el resultado es 2,598,960, que son todas las posibles combinaciones que se pueden dar en el poker.\n",
    "\n",
    "Ejemplo\n",
    "\n",
    "Calcule cuántas combinaciones de poker (4 cartas del mismo tipo y cualquier carta adicional) se pueden dar en el juego de poker.\n"
   ]
  },
  {
   "cell_type": "code",
   "execution_count": 36,
   "metadata": {},
   "outputs": [
    {
     "data": {
      "text/html": [
       "624"
      ],
      "text/latex": [
       "624"
      ],
      "text/markdown": [
       "624"
      ],
      "text/plain": [
       "[1] 624"
      ]
     },
     "metadata": {},
     "output_type": "display_data"
    }
   ],
   "source": [
    "#importamos nuevamente la librería gtools\n",
    "library(gtools)\n",
    "#primero vamos a seleccionar una carta dentro de las denominaciones de As hasta K\n",
    "#que son 13 cartas, la que será nuestra carta de poker\n",
    "numero_de_carta <- nrow(combinations(n=13,r=1,1:13))\n",
    "#de la carta anterior necesitamos los 4 tipos de cartas \n",
    "#corazón, espadas, tréboles y diamantes\n",
    "tipo_de_carta <- nrow(combinations(n=4,r=4,1:4))\n",
    "#luego necesitamos calcular la 5ta carta la cual seleccionamos \n",
    "#cualquier denominación de las 12 que nos quedan\n",
    "#tomando en cuenta que ya seleccionamos una denominación para el poker\n",
    "numero_carta_adicional <- nrow(combinations(n=12,r=1,1:12))\n",
    "#y luego de esa carta adicional buscamos cualquier tipo\n",
    "#ya que no nos interesa de qué tipo y denominación sea\n",
    "tipo_carta_adicional <- nrow(combinations(n=4,r=1,1:4))\n",
    "#finalmente el total de manos se da por la multiplicación de \n",
    "#todas las combinaciones que ya seleccionamos\n",
    "total_de_manos <-numero_de_carta * tipo_de_carta * numero_carta_adicional * tipo_carta_adicional\n",
    "total_de_manos\n",
    "#y esto nos da 624 tipos de poker distintos"
   ]
  },
  {
   "cell_type": "markdown",
   "metadata": {},
   "source": [
    "## Probabilidad Condicional\n",
    "Esta se define como la probabilidad de que ocurra un evento ya sabiendo que un evento previo ya ha ocurrido. La ecuacion de esta probabilidad es:\n",
    "\\begin{align}\n",
    "P(A \\cap B) = P(A | B)\\times P(B)\n",
    "\\end{align}\n",
    "\n",
    "Lo que al final nos deja\n",
    "\\begin{align}\n",
    "P(A | B) = \\frac{P(A\\cap B)}{P(B)}\n",
    "\\end{align}\n",
    "\n",
    "Ejemplo\n",
    "\n",
    "Supongamos que tenemos 2 dados y realizamos 100,000 tiros, para ello vamos a generar el siguiente código."
   ]
  },
  {
   "cell_type": "code",
   "execution_count": 39,
   "metadata": {},
   "outputs": [
    {
     "name": "stdout",
     "output_type": "stream",
     "text": [
      "[1] \"Tabla de Frecuencias\"\n"
     ]
    },
    {
     "data": {
      "text/html": [
       "<table>\n",
       "<thead><tr><th></th><th scope=col>x</th><th scope=col>y1</th><th scope=col>y2</th><th scope=col>y3</th><th scope=col>y4</th><th scope=col>y5</th><th scope=col>y6</th></tr></thead>\n",
       "<tbody>\n",
       "\t<tr><th scope=row>x1</th><td>1   </td><td>2754</td><td>2886</td><td>2723</td><td>2804</td><td>2762</td><td>2820</td></tr>\n",
       "\t<tr><th scope=row>x2</th><td>2   </td><td>2656</td><td>2831</td><td>2670</td><td>2803</td><td>2807</td><td>2799</td></tr>\n",
       "\t<tr><th scope=row>x3</th><td>3   </td><td>2753</td><td>2876</td><td>2745</td><td>2725</td><td>2755</td><td>2751</td></tr>\n",
       "\t<tr><th scope=row>x4</th><td>4   </td><td>2783</td><td>2800</td><td>2831</td><td>2715</td><td>2806</td><td>2771</td></tr>\n",
       "\t<tr><th scope=row>x5</th><td>5   </td><td>2830</td><td>2836</td><td>2668</td><td>2766</td><td>2729</td><td>2849</td></tr>\n",
       "\t<tr><th scope=row>x6</th><td>6   </td><td>2826</td><td>2770</td><td>2771</td><td>2747</td><td>2757</td><td>2825</td></tr>\n",
       "</tbody>\n",
       "</table>\n"
      ],
      "text/latex": [
       "\\begin{tabular}{r|lllllll}\n",
       "  & x & y1 & y2 & y3 & y4 & y5 & y6\\\\\n",
       "\\hline\n",
       "\tx1 & 1    & 2754 & 2886 & 2723 & 2804 & 2762 & 2820\\\\\n",
       "\tx2 & 2    & 2656 & 2831 & 2670 & 2803 & 2807 & 2799\\\\\n",
       "\tx3 & 3    & 2753 & 2876 & 2745 & 2725 & 2755 & 2751\\\\\n",
       "\tx4 & 4    & 2783 & 2800 & 2831 & 2715 & 2806 & 2771\\\\\n",
       "\tx5 & 5    & 2830 & 2836 & 2668 & 2766 & 2729 & 2849\\\\\n",
       "\tx6 & 6    & 2826 & 2770 & 2771 & 2747 & 2757 & 2825\\\\\n",
       "\\end{tabular}\n"
      ],
      "text/markdown": [
       "\n",
       "| <!--/--> | x | y1 | y2 | y3 | y4 | y5 | y6 | \n",
       "|---|---|---|---|---|---|\n",
       "| x1 | 1    | 2754 | 2886 | 2723 | 2804 | 2762 | 2820 | \n",
       "| x2 | 2    | 2656 | 2831 | 2670 | 2803 | 2807 | 2799 | \n",
       "| x3 | 3    | 2753 | 2876 | 2745 | 2725 | 2755 | 2751 | \n",
       "| x4 | 4    | 2783 | 2800 | 2831 | 2715 | 2806 | 2771 | \n",
       "| x5 | 5    | 2830 | 2836 | 2668 | 2766 | 2729 | 2849 | \n",
       "| x6 | 6    | 2826 | 2770 | 2771 | 2747 | 2757 | 2825 | \n",
       "\n",
       "\n"
      ],
      "text/plain": [
       "   x y1   y2   y3   y4   y5   y6  \n",
       "x1 1 2754 2886 2723 2804 2762 2820\n",
       "x2 2 2656 2831 2670 2803 2807 2799\n",
       "x3 3 2753 2876 2745 2725 2755 2751\n",
       "x4 4 2783 2800 2831 2715 2806 2771\n",
       "x5 5 2830 2836 2668 2766 2729 2849\n",
       "x6 6 2826 2770 2771 2747 2757 2825"
      ]
     },
     "metadata": {},
     "output_type": "display_data"
    },
    {
     "name": "stdout",
     "output_type": "stream",
     "text": [
      "[1] \"Tabla de Probabilidades\"\n"
     ]
    },
    {
     "data": {
      "text/html": [
       "<table>\n",
       "<thead><tr><th></th><th scope=col>y1</th><th scope=col>y2</th><th scope=col>y3</th><th scope=col>y4</th><th scope=col>y5</th><th scope=col>y6</th></tr></thead>\n",
       "<tbody>\n",
       "\t<tr><th scope=row>x1</th><td>0.02754</td><td>0.02886</td><td>0.02723</td><td>0.02804</td><td>0.02762</td><td>0.02820</td></tr>\n",
       "\t<tr><th scope=row>x2</th><td>0.02656</td><td>0.02831</td><td>0.02670</td><td>0.02803</td><td>0.02807</td><td>0.02799</td></tr>\n",
       "\t<tr><th scope=row>x3</th><td>0.02753</td><td>0.02876</td><td>0.02745</td><td>0.02725</td><td>0.02755</td><td>0.02751</td></tr>\n",
       "\t<tr><th scope=row>x4</th><td>0.02783</td><td>0.02800</td><td>0.02831</td><td>0.02715</td><td>0.02806</td><td>0.02771</td></tr>\n",
       "\t<tr><th scope=row>x5</th><td>0.02830</td><td>0.02836</td><td>0.02668</td><td>0.02766</td><td>0.02729</td><td>0.02849</td></tr>\n",
       "\t<tr><th scope=row>x6</th><td>0.02826</td><td>0.02770</td><td>0.02771</td><td>0.02747</td><td>0.02757</td><td>0.02825</td></tr>\n",
       "</tbody>\n",
       "</table>\n"
      ],
      "text/latex": [
       "\\begin{tabular}{r|llllll}\n",
       "  & y1 & y2 & y3 & y4 & y5 & y6\\\\\n",
       "\\hline\n",
       "\tx1 & 0.02754 & 0.02886 & 0.02723 & 0.02804 & 0.02762 & 0.02820\\\\\n",
       "\tx2 & 0.02656 & 0.02831 & 0.02670 & 0.02803 & 0.02807 & 0.02799\\\\\n",
       "\tx3 & 0.02753 & 0.02876 & 0.02745 & 0.02725 & 0.02755 & 0.02751\\\\\n",
       "\tx4 & 0.02783 & 0.02800 & 0.02831 & 0.02715 & 0.02806 & 0.02771\\\\\n",
       "\tx5 & 0.02830 & 0.02836 & 0.02668 & 0.02766 & 0.02729 & 0.02849\\\\\n",
       "\tx6 & 0.02826 & 0.02770 & 0.02771 & 0.02747 & 0.02757 & 0.02825\\\\\n",
       "\\end{tabular}\n"
      ],
      "text/markdown": [
       "\n",
       "| <!--/--> | y1 | y2 | y3 | y4 | y5 | y6 | \n",
       "|---|---|---|---|---|---|\n",
       "| x1 | 0.02754 | 0.02886 | 0.02723 | 0.02804 | 0.02762 | 0.02820 | \n",
       "| x2 | 0.02656 | 0.02831 | 0.02670 | 0.02803 | 0.02807 | 0.02799 | \n",
       "| x3 | 0.02753 | 0.02876 | 0.02745 | 0.02725 | 0.02755 | 0.02751 | \n",
       "| x4 | 0.02783 | 0.02800 | 0.02831 | 0.02715 | 0.02806 | 0.02771 | \n",
       "| x5 | 0.02830 | 0.02836 | 0.02668 | 0.02766 | 0.02729 | 0.02849 | \n",
       "| x6 | 0.02826 | 0.02770 | 0.02771 | 0.02747 | 0.02757 | 0.02825 | \n",
       "\n",
       "\n"
      ],
      "text/plain": [
       "   y1      y2      y3      y4      y5      y6     \n",
       "x1 0.02754 0.02886 0.02723 0.02804 0.02762 0.02820\n",
       "x2 0.02656 0.02831 0.02670 0.02803 0.02807 0.02799\n",
       "x3 0.02753 0.02876 0.02745 0.02725 0.02755 0.02751\n",
       "x4 0.02783 0.02800 0.02831 0.02715 0.02806 0.02771\n",
       "x5 0.02830 0.02836 0.02668 0.02766 0.02729 0.02849\n",
       "x6 0.02826 0.02770 0.02771 0.02747 0.02757 0.02825"
      ]
     },
     "metadata": {},
     "output_type": "display_data"
    }
   ],
   "source": [
    "#creamos una función que genere aleatoriamente los tiros de los dados\n",
    "dice <- function(no_of_rolls=1){\n",
    "  #la función sample nos permite generar un listado de valores para cada posible tiro\n",
    "  x <- sample(1:6, size=no_of_rolls, replace=TRUE)\n",
    "  y <- sample(1:6, size=no_of_rolls, replace=TRUE)\n",
    "  #finalmente utilizamos cbind para combinar los resultados del dado X y el Y en un mismo\n",
    "  #dataframe\n",
    "  return(cbind(x,y))\n",
    "}\n",
    "#seteamos el seed a este valor que nos permitirá recrear \n",
    "#el experimento\n",
    "set.seed(20485)\n",
    "#Generamos un data frame con cien mil tiros de los dados\n",
    "rolls <- as.data.frame(dice(100000))\n",
    "\n",
    "#vamos a importar la librería plyr para la siguiente etapa\n",
    "library(plyr)\n",
    "#Utilizando la función ddplyr vamos a sumarizar los tiros para \n",
    "#cada posible valor de X y Y, para ello provemos el data frame\n",
    "#con cada posible valor, las filas estarán dadas por X y luego \n",
    "#indicamos el criterio a utilizar para cada columna\n",
    "#en este caso la sumatoria por cada valor posible de Y\n",
    "freq_table <- ddply(rolls, ~x, summarize,\n",
    "                    y1=sum(y==1), y2=sum(y==2), y3= sum(y==3),\n",
    "                    y4 = sum(y==4), y5=sum(y==5), y6=sum(y==6))\n",
    "#Le asignamos a cada fila los nombres de x\n",
    "row.names(freq_table) <- paste0('x',1:6)\n",
    "#esto nos devuelve un data frame sumarizado con cada posible valor de X y Y\n",
    "print('Tabla de Frecuencias')\n",
    "freq_table\n",
    "#para volver estos valores probabilidades procedemos a dividir cada celda\n",
    "#dentro de cien mil con lo cual obtenemos una matriz de probabilidades\n",
    "#para cada posible combinación de tiros\n",
    "prob_table <- freq_table[,-1]/100000\n",
    "print('Tabla de Probabilidades')\n",
    "prob_table"
   ]
  },
  {
   "cell_type": "markdown",
   "metadata": {},
   "source": [
    "Esta tabla nos indica las probabilidades condicionales para cada valor del dado X y Y, ahora hagamos unas cuantas validaciones:"
   ]
  },
  {
   "cell_type": "code",
   "execution_count": 42,
   "metadata": {},
   "outputs": [
    {
     "name": "stdout",
     "output_type": "stream",
     "text": [
      "[1] \"Ocurrencias para y=1 & x=3\"\n"
     ]
    },
    {
     "data": {
      "text/html": [
       "2753"
      ],
      "text/latex": [
       "2753"
      ],
      "text/markdown": [
       "2753"
      ],
      "text/plain": [
       "[1] 2753"
      ]
     },
     "metadata": {},
     "output_type": "display_data"
    },
    {
     "name": "stdout",
     "output_type": "stream",
     "text": [
      "[1] \"Probabilidad para y=1 & x=3\"\n"
     ]
    },
    {
     "data": {
      "text/html": [
       "0.02753"
      ],
      "text/latex": [
       "0.02753"
      ],
      "text/markdown": [
       "0.02753"
      ],
      "text/plain": [
       "[1] 0.02753"
      ]
     },
     "metadata": {},
     "output_type": "display_data"
    },
    {
     "name": "stdout",
     "output_type": "stream",
     "text": [
      "[1] \"Probabilidad para y=1 & x=3 por media aritmetica\"\n"
     ]
    },
    {
     "data": {
      "text/html": [
       "0.02753"
      ],
      "text/latex": [
       "0.02753"
      ],
      "text/markdown": [
       "0.02753"
      ],
      "text/plain": [
       "[1] 0.02753"
      ]
     },
     "metadata": {},
     "output_type": "display_data"
    }
   ],
   "source": [
    "#creamos una función que genere aleatoriamente los tiros de los dados\n",
    "dice <- function(no_of_rolls=1){\n",
    "  #la función sample nos permite generar un listado de valores para cada posible tiro\n",
    "  x <- sample(1:6, size=no_of_rolls, replace=TRUE)\n",
    "  y <- sample(1:6, size=no_of_rolls, replace=TRUE)\n",
    "  #finalmente utilizamos cbind para combinar los resultados del dado X y el Y en un mismo\n",
    "  #dataframe\n",
    "  return(cbind(x,y))\n",
    "}\n",
    "#seteamos el seed a este valor que nos permitirá recrear \n",
    "#el experimento\n",
    "set.seed(20485)\n",
    "#Generamos un data frame con cien mil tiros de los dados\n",
    "rolls <- as.data.frame(dice(100000))\n",
    "#supongamos que queremos calcular dentro de las cien mil lanzadas cuantas\n",
    "#veces cae Y=1 y X=3\n",
    "evento <- rolls[rolls$y==1&rolls$x==3,]\n",
    "#contamos la cantidad de filas que arrojó el experimento\n",
    "print('Ocurrencias para y=1 & x=3')\n",
    "nrow(evento)\n",
    "#para calcular la probabilidad de ocurrencia de este evento\n",
    "#lo dividimos dentro del total de ocurrencias del espacio muestral\n",
    "print('Probabilidad para y=1 & x=3')\n",
    "nrow(evento)/100000\n",
    "#esto nos arroja 0.02734 como vemos es lo mismo que en la tabla anterior\n",
    "#esto tambien lo podriamos calcular utilizando la media aritmética\n",
    "print('Probabilidad para y=1 & x=3 por media aritmetica')\n",
    "mean(rolls$y==1&rolls$x==3)\n",
    "#nos da el mismo resultado y permite expresar mas facilmente la \n",
    "#probabilidad condicional"
   ]
  },
  {
   "cell_type": "markdown",
   "metadata": {},
   "source": [
    "Ejemplo\n",
    "\n",
    "Existe una prueba para saber si una persona tiene gripe que da positivo el 90% de las veces que es probada en una persona que tiene gripe, por otro lado el 95% de las veces que es probada en una persona saludable arroja negativo. También sabemos que la gripe afecta al 10% de la población total, si usted va al doctor la prueba arroja positivo, que probabilidad hay de que realmente esté contagiado de gripe."
   ]
  },
  {
   "cell_type": "code",
   "execution_count": 44,
   "metadata": {},
   "outputs": [
    {
     "data": {
      "text/plain": [
       "evaluacion\n",
       "Negativa Positiva \n",
       "   94159     5841 "
      ]
     },
     "metadata": {},
     "output_type": "display_data"
    },
    {
     "data": {
      "text/plain": [
       "\n",
       "Negativa Positiva \n",
       "     108      903 "
      ]
     },
     "metadata": {},
     "output_type": "display_data"
    },
    {
     "data": {
      "text/plain": [
       "\n",
       "Negativa Positiva \n",
       "   94051     4938 "
      ]
     },
     "metadata": {},
     "output_type": "display_data"
    },
    {
     "name": "stdout",
     "output_type": "stream",
     "text": [
      "[1] \"La probabilidad es de\"\n"
     ]
    },
    {
     "data": {
      "text/html": [
       "0.154596815613765"
      ],
      "text/latex": [
       "0.154596815613765"
      ],
      "text/markdown": [
       "0.154596815613765"
      ],
      "text/plain": [
       "[1] 0.1545968"
      ]
     },
     "metadata": {},
     "output_type": "display_data"
    }
   ],
   "source": [
    "#establecemos primero la población de cien mil personas donde el 1% tiene gripe\n",
    "#y el 99% no tiene gripe\n",
    "poblacion <- sample(c('Sin Gripe','Con Gripe'), size=100000, \n",
    "                              replace=TRUE, prob=c(0.99,0.01))\n",
    "#creamos una arreglo vacío con cien mil posiciones para poblarlo con los \n",
    "#resultados de la evaluación de la prueba\n",
    "evaluacion <- rep(NA, 100000)\n",
    "#vamos a establecer los resultados de la evaluación para las personas sin gripe\n",
    "#donde la prueba tiene 95% de probabilidad de arrojar negativo si es probada\n",
    "evaluacion[poblacion=='Sin Gripe'] <- sample(c('Negativa','Positiva'), \n",
    "                                                size=sum(poblacion=='Sin Gripe'), \n",
    "                                                replace=TRUE, prob=c(0.95,0.05))\n",
    "\n",
    "#vamos a establecer los resultados de la evaluación para las personas con gripe\n",
    "#donde la prueba tiene 90% de probabilidad de arrojar positivo\n",
    "evaluacion[poblacion=='Con Gripe'] <- sample(c('Negativa','Positiva'), \n",
    "                                       size=sum(poblacion=='Con Gripe'), \n",
    "                                       replace=TRUE, prob=c(0.1, 0.9))\n",
    "#Con esto podemos usar el comando table para ver como quedan la distribución de positivo \n",
    "#y negativo\n",
    "table(evaluacion)\n",
    "table(evaluacion[poblacion=='Con Gripe'])\n",
    "table(evaluacion[poblacion=='Sin Gripe'])\n",
    "#para calcular la probabilidad condicional calculamos la media para la poblacion cuya \n",
    "#evaluación es positiva y que tienen gripe\n",
    "print('La probabilidad es de')\n",
    "mean(poblacion[evaluacion=='Positiva']=='Con Gripe')"
   ]
  },
  {
   "cell_type": "markdown",
   "metadata": {},
   "source": [
    "Si lo intentamos resolver mediante el uso del teorema de Bayes\n",
    "\n",
    "\\begin{align}\n",
    "P(gripe = 1 | eval = 1) & = \\frac{P(eval=1 | gripe=1) \\times P(gripe=1)}{P(eval=1)} \\\\\\\\\n",
    "P(gripe = 1 | eval = 1) & = \\frac{P(eval=1 | gripe=1) \\times P(gripe=1)}{P(eval=1 | gripe = 1) \\times P(gripe=1) + P(eval=1 | gripe = 0) \\times P(gripe = 0)} \\\\\\\\\n",
    "P(gripe = 1 | eval = 1) & = \\frac{0.9 \\times 0.01}{0.9 \\times 0.01 + 0.05 \\times 0.99} \\\\\\\\\n",
    "P(gripe = 1 | eval = 1) & = 0.153846\n",
    "\\end{align}\n",
    "\n",
    "Como vemos el resultado utilizando Bayes es 0.1538 y haciendo los calculos en R nos devuelve 0.1560, ambos se encuentran bastante cerca por lo que podemos tomar los calculos hechos en R como validos aunque la perpectiva de resolver el problema sea totalmente distinta."
   ]
  },
  {
   "cell_type": "markdown",
   "metadata": {},
   "source": [
    "## Variables Aleatorias\n",
    "Una variable aleatoria es una función de valor real para la cual el dominio es un espacio\n",
    "muestral.\n",
    "\n",
    "Ejemplo\n",
    "\n",
    "Definir un experimento como lanzar dos monedas al aire y observar los resultados. Sea Y igual al número de caras obtenido. Identifique los puntos muestrales en S, asigne un valor de Y a cada punto muestral e identifique los puntos muestrales asociados con cada valor de la variable aleatoria Y.\n",
    "\n",
    "| Moneda 1  | Moneda 2 | Y | P(Y) |\n",
    "|:---------:|:--------:|:-:|:----:|\n",
    "| Cara      | Cara     | 2 | 1/4  |\n",
    "| Cara      | Escudo   | 1 | 1/2  |\n",
    "| Escudo    | Cara     | 1 | 1/2  |\n",
    "| Escudo    | Escudo   | 1 | 1/4  |\n",
    "\n",
    "En el ejercicio anterior le asignamos a cada cara un valor de 1 y a escudo un valor de 0,y nuestra variable aleatoria Y esta data por:\n",
    "\n",
    "\\begin{align}\n",
    "Y = val(moneda1) + val(moneda2)\n",
    "\\end{align}\n",
    "\n",
    "Ahora P(Y) esta dado por la cantidad de ocurrencias del valor de Y dividido el total de puntos en el espacio muestral que serian 4."
   ]
  },
  {
   "cell_type": "markdown",
   "metadata": {},
   "source": [
    "## Funcion de Distribucion de Probabilidad\n",
    "La probabilidad de que Y tome el valor y, P(Y = y), se define como la suma de las probabilidades de todos los puntos muestrales en S a los que se asigna el valor y. A veces\n",
    "denotaremos P(Y = y) por p(y).\n",
    "\n",
    "En el ejercicio anterior podríamos decir entonces que:\n",
    "\n",
    "\\begin{align}\n",
    "P(Y) = \\frac{val(moneda1) + val(moneda2)}{S}\n",
    "\\end{align}\n",
    "\n",
    "Donde establecimos que S = 4 ya que es el total de puntos en el espacio muestral."
   ]
  },
  {
   "cell_type": "code",
   "execution_count": 45,
   "metadata": {},
   "outputs": [
    {
     "name": "stdout",
     "output_type": "stream",
     "text": [
      "[1] \"Probabilidad para y=2\"\n"
     ]
    },
    {
     "data": {
      "text/html": [
       "0.25"
      ],
      "text/latex": [
       "0.25"
      ],
      "text/markdown": [
       "0.25"
      ],
      "text/plain": [
       "[1] 0.25"
      ]
     },
     "metadata": {},
     "output_type": "display_data"
    },
    {
     "name": "stdout",
     "output_type": "stream",
     "text": [
      "[1] \"Probabilidad para y=1\"\n"
     ]
    },
    {
     "data": {
      "text/html": [
       "0.5"
      ],
      "text/latex": [
       "0.5"
      ],
      "text/markdown": [
       "0.5"
      ],
      "text/plain": [
       "[1] 0.5"
      ]
     },
     "metadata": {},
     "output_type": "display_data"
    },
    {
     "name": "stdout",
     "output_type": "stream",
     "text": [
      "[1] \"Probabilidad para y=0\"\n"
     ]
    },
    {
     "data": {
      "text/html": [
       "0.25"
      ],
      "text/latex": [
       "0.25"
      ],
      "text/markdown": [
       "0.25"
      ],
      "text/plain": [
       "[1] 0.25"
      ]
     },
     "metadata": {},
     "output_type": "display_data"
    },
    {
     "name": "stdout",
     "output_type": "stream",
     "text": [
      "[1] \"Tabla de Probabilidades\"\n"
     ]
    },
    {
     "data": {
      "text/html": [
       "<table>\n",
       "<thead><tr><th scope=col>Moneda1</th><th scope=col>Moneda2</th><th scope=col>y</th><th scope=col>py</th></tr></thead>\n",
       "<tbody>\n",
       "\t<tr><td>Cara  </td><td>Cara  </td><td>2     </td><td>0.25  </td></tr>\n",
       "\t<tr><td>Escudo</td><td>Cara  </td><td>1     </td><td>0.50  </td></tr>\n",
       "\t<tr><td>Cara  </td><td>Escudo</td><td>1     </td><td>0.50  </td></tr>\n",
       "\t<tr><td>Escudo</td><td>Escudo</td><td>0     </td><td>0.25  </td></tr>\n",
       "</tbody>\n",
       "</table>\n"
      ],
      "text/latex": [
       "\\begin{tabular}{r|llll}\n",
       " Moneda1 & Moneda2 & y & py\\\\\n",
       "\\hline\n",
       "\t Cara   & Cara   & 2      & 0.25  \\\\\n",
       "\t Escudo & Cara   & 1      & 0.50  \\\\\n",
       "\t Cara   & Escudo & 1      & 0.50  \\\\\n",
       "\t Escudo & Escudo & 0      & 0.25  \\\\\n",
       "\\end{tabular}\n"
      ],
      "text/markdown": [
       "\n",
       "Moneda1 | Moneda2 | y | py | \n",
       "|---|---|---|---|\n",
       "| Cara   | Cara   | 2      | 0.25   | \n",
       "| Escudo | Cara   | 1      | 0.50   | \n",
       "| Cara   | Escudo | 1      | 0.50   | \n",
       "| Escudo | Escudo | 0      | 0.25   | \n",
       "\n",
       "\n"
      ],
      "text/plain": [
       "  Moneda1 Moneda2 y py  \n",
       "1 Cara    Cara    2 0.25\n",
       "2 Escudo  Cara    1 0.50\n",
       "3 Cara    Escudo  1 0.50\n",
       "4 Escudo  Escudo  0 0.25"
      ]
     },
     "metadata": {},
     "output_type": "display_data"
    }
   ],
   "source": [
    "#Primero vamos a definir una función para la variable aleatoria, como lo vemos anteriormente\n",
    "#vamos a darle valor de cara=1 y escudo=0 y la variable Y = val(moneda1) + val(moneda2)\n",
    "va_val <- function (moneda1, moneda2){\n",
    "  val_moneda1 <- ifelse(moneda1 == 'Cara',1,0)\n",
    "  val_moneda2 <- ifelse(moneda2 == 'Cara',1,0)\n",
    "  y <- val_moneda1 + val_moneda2\n",
    "  return(y)\n",
    "}\n",
    "#Luego vamos a definir la función densidad de probabilidad, para ello utilizamos la función\n",
    "#ave que nos permite calcular la frecuencia de cada uno de los valores de Y\n",
    "#luego lo dividimos dentro del total de filas (puntos muestrales) para obtener la probabilidad\n",
    "va_prob <- function(df){\n",
    "  ave(seq(nrow(df)), df$y, FUN=length)/nrow(df)\n",
    "}\n",
    "\n",
    "#nuevamente definimos la moneda\n",
    "moneda <- c('Cara','Escudo')\n",
    "#creamos un dataframe con dos monedas, lo llamamos ‘va’ por variable #aleatoria\n",
    "va <- expand.grid(moneda, moneda)\n",
    "colnames(va) <- c('Moneda1','Moneda2')\n",
    "#ahora procedemos a agregarle al dataframe una función de variable aleatoria\n",
    "va$y <- with(va, va_val(Moneda1, Moneda2))\n",
    "#con esta función podemos calcular la probabilidad para cada uno de los valores de Y\n",
    "print('Probabilidad para y=2')\n",
    "mean(va$y==2)\n",
    "print('Probabilidad para y=1')\n",
    "mean(va$y==1)\n",
    "print('Probabilidad para y=0')\n",
    "mean(va$y==0)\n",
    "#finalmente vamos a agregar la columna de probabilidad aplicando\n",
    "#la función de densidad de probabilidad\n",
    "va$py <- with(va, va_prob(va))\n",
    "#finalmente con esto obtenemos un dataframe similar a la tabla anteriormente mostrada\n",
    "print('Tabla de Probabilidades')\n",
    "va"
   ]
  },
  {
   "cell_type": "markdown",
   "metadata": {},
   "source": [
    "## Valor Esperado\n",
    "Sea Y una variable aleatoria discreta con la función de probabilidad P(Y). Entonces el valor esperado de Y, E(Y) se define como:\n",
    "\n",
    "\\begin{align}\n",
    "E(Y) = \\sum_{y}^{\\infty} y p(y)\n",
    "\\end{align}"
   ]
  },
  {
   "cell_type": "code",
   "execution_count": 46,
   "metadata": {},
   "outputs": [
    {
     "data": {
      "image/png": "[encoded data removed]",
      "text/plain": [
       "Plot with title “Y - P(Y)”"
      ]
     },
     "metadata": {},
     "output_type": "display_data"
    }
   ],
   "source": [
    "#si utilizamos el data frame anterior y extraemos únicamente la variable aleatoria y su\n",
    "#probabilidad\n",
    "y_py <- data.frame(va$y,va$py)\n",
    "#removemos los duplicados\n",
    "y_py <- unique(y_py[,])\n",
    "colnames(y_py) <- c('y','py')\n",
    "#al generar un histograma podemos darnos una idea cual es su valor esperado E(Y)\n",
    "barplot(y_py$py, names = y_py$y,\n",
    "        xlab = \"Y\", ylab = \"P(Y)\",\n",
    "        main = \"Y - P(Y)\")"
   ]
  },
  {
   "cell_type": "markdown",
   "metadata": {},
   "source": [
    "Con lo que podríamos decir que el valor esperado es 1. Ahora bien corroboramos esto de otra manera:"
   ]
  },
  {
   "cell_type": "code",
   "execution_count": 47,
   "metadata": {},
   "outputs": [
    {
     "data": {
      "text/html": [
       "0.99929"
      ],
      "text/latex": [
       "0.99929"
      ],
      "text/markdown": [
       "0.99929"
      ],
      "text/plain": [
       "[1] 0.99929"
      ]
     },
     "metadata": {},
     "output_type": "display_data"
    }
   ],
   "source": [
    "#vamos a generar aleatoriamente un millón de números para Y (0,1,2) con su respectiva\n",
    "#probabilidad de P(Y) (0.25,0.5,0.25 respectivamente)\n",
    "muestra <- sample(c(0,1,2), size = 1000000, prob = c(0.25,0.5,0.25), replace = T)\n",
    "#luego procedemos a sacar la media de esta listado\n",
    "mean(muestra)"
   ]
  },
  {
   "cell_type": "markdown",
   "metadata": {},
   "source": [
    "Al realizar la prueba por simulación vemos que la media de casi 1, por lo que el valor esperado debe ser 1."
   ]
  },
  {
   "cell_type": "code",
   "execution_count": 48,
   "metadata": {},
   "outputs": [
    {
     "data": {
      "text/html": [
       "0.99929"
      ],
      "text/latex": [
       "0.99929"
      ],
      "text/markdown": [
       "0.99929"
      ],
      "text/plain": [
       "[1] 0.99929"
      ]
     },
     "metadata": {},
     "output_type": "display_data"
    }
   ],
   "source": [
    "#aplicando la fórmula de la sumatoria y*p(y) la esperanza nos queda\n",
    "e <- (sum(muestra==0)*0 + sum(muestra==1)*1 + sum(muestra==2)*2)/length(muestra)\n",
    "#finalmente corroboramos la esperanza \n",
    "e"
   ]
  },
  {
   "cell_type": "markdown",
   "metadata": {},
   "source": [
    "## Varianza\n",
    "Si Y es una variable aleatoria con media $E(Y)=\\mu$, la varianza de una variable aleatoria está dada por $(Y-\\mu)^2$. Por lo tanto\n",
    "\n",
    "\\begin{align}\n",
    "V(Y) = E[(Y - \\mu)^2]\n",
    "\\end{align}\n",
    "\n",
    "Si p(y) es una caracterización precisa de la distribución de frecuencia poblacional, entonces podemos asumir que:\n",
    "\n",
    "\\begin{align}\n",
    "E(Y) & = \\mu \\\\\n",
    "V(Y) & = \\sigma^2\n",
    "\\end{align}\n",
    "\n",
    "Ejemplo\n",
    "Supongamos que tenemos una variable aleatoria Y y sus probabilidades según la siguiente tabla:\n",
    "\n",
    "| Y | P(Y) |\n",
    "|:-:|:----:|\n",
    "| 0 | 1/8  |\n",
    "| 1 | 1/4  |\n",
    "| 2 | 3/8  |\n",
    "| 3 | 1/4  |\n",
    "\n",
    "Si calculamos la media de la manera tradicional obtenemos que:\n",
    "\n",
    "\\begin{align}\n",
    "E(Y) & = \\sum_{i=0}^{3} y_i p(y_i) \\\\\\\\\n",
    "E(Y) & = 0 \\times \\frac{1}{8} + 1 \\times \\frac{1}{4} + 2 \\times \\frac{3}{8} + 3 \\times \\frac{1}{4} \\\\\\\\\n",
    "E(Y) & = 1.75\n",
    "\\end{align}\n",
    "\n",
    "La varianza y la desviación estándar quedarían como:\n",
    "\n",
    "\\begin{align}\n",
    "V(Y) & = \\sum_{i=0}^{3} (y_i - \\mu)^2 p(y_i) \\\\\\\\\n",
    "V(Y) & = (0 - 1.75)^2 \\times \\frac{1}{8} + (1 - 1.75)^2 \\times \\frac{1}{4} + (2 - 1.75)^2 \\times \\frac{3}{8} + (3 - 1.75)^2 \\times \\frac{1}{4} \\\\\\\\\n",
    "V(Y) & = 0.9375 \\\\\\\\\n",
    "\\sigma & = \\sqrt{V(Y)} \\\\\\\\\n",
    "\\sigma & = 0.97\n",
    "\\end{align}\n",
    "\n",
    "Ahora veamos otro perspectiva del problema:"
   ]
  },
  {
   "cell_type": "code",
   "execution_count": 50,
   "metadata": {},
   "outputs": [
    {
     "name": "stdout",
     "output_type": "stream",
     "text": [
      "[1] \"media\"\n"
     ]
    },
    {
     "data": {
      "text/html": [
       "1.750427"
      ],
      "text/latex": [
       "1.750427"
      ],
      "text/markdown": [
       "1.750427"
      ],
      "text/plain": [
       "[1] 1.750427"
      ]
     },
     "metadata": {},
     "output_type": "display_data"
    },
    {
     "name": "stdout",
     "output_type": "stream",
     "text": [
      "[1] \"varianza\"\n"
     ]
    },
    {
     "data": {
      "text/html": [
       "0.936079253750248"
      ],
      "text/latex": [
       "0.936079253750248"
      ],
      "text/markdown": [
       "0.936079253750248"
      ],
      "text/plain": [
       "[1] 0.9360793"
      ]
     },
     "metadata": {},
     "output_type": "display_data"
    },
    {
     "name": "stdout",
     "output_type": "stream",
     "text": [
      "[1] \"desviacion estandar\"\n"
     ]
    },
    {
     "data": {
      "text/html": [
       "0.967511888169984"
      ],
      "text/latex": [
       "0.967511888169984"
      ],
      "text/markdown": [
       "0.967511888169984"
      ],
      "text/plain": [
       "[1] 0.9675119"
      ]
     },
     "metadata": {},
     "output_type": "display_data"
    }
   ],
   "source": [
    "#primero definimos una muestra para los valores de Y con sus probabilidades respectivas\n",
    "#vamos a generar un millón de muestras y luego a realizar los cálculos respectivos\n",
    "muestra <- sample(c(0,1,2,3), 1000000, prob = c(1/8,1/4,3/8,1/4), \n",
    "replace = T)\n",
    "#calculamos E(Y)\n",
    "print('media')\n",
    "mean(muestra)\n",
    "#vemos que para un millón de registros nos da 1.749 que es aproximadamente 1.75\n",
    "#Ahora vamos a calcular la desviación estándar, ya que la paquetería de R\n",
    "#no nos permite calcular directamente la varianza\n",
    "desviacion <- sd(muestra)\n",
    "#ahora para calcular la varianza elevamos al cuadrado la desviación #estándar\n",
    "varianza <- desviacion^2\n",
    "print('varianza')\n",
    "varianza\n",
    "print('desviacion estandar')\n",
    "desviacion\n",
    "#si analizamos los resultados la varianza nos da 0.9377 y la desviación \n",
    "#estándar nos da 0.968, estos resultados son muy similares a los de los \n",
    "#calculos anteriores"
   ]
  },
  {
   "cell_type": "markdown",
   "metadata": {},
   "source": [
    "## Distribucion Binomial\n",
    "A la observación de una secuencia de eventos independientes cuyos valores esperados son dos opciones, por ejemplo verdadero o falso, 1 o 0, Si o No, etc, se le conoce como eventos de distribución binomial, y estos eventos poseen las siguientes características:\n",
    "\n",
    "* Consiste en un número fijo, n, de pruebas idénticas.\n",
    "* Cada prueba resulta en uno de dos resultados: éxito, S, o fracaso, F.\n",
    "* La probabilidad de éxito en una sola prueba es igual a algún valor p y es el mismo de una prueba a la otra. La probabilidad de fracaso es igual a $q = (1 – p)$.\n",
    "* Las pruebas son independientes.\n",
    "* La variable aleatoria de interés es Y, el número de éxitos observado durante las n pruebas.\n",
    "\n",
    "Por lo tanto se dice que para una distribución binomial:\n",
    "\n",
    "\\begin{align}\n",
    "p(y) = \\binom{n}{y}p^yq^{n-y}\n",
    "\\end{align}\n",
    "\n",
    "Esto se cumple para\n",
    "\n",
    "\\begin{align}\n",
    "y = 0, 1, \\dots, n \\\\\n",
    "0 \\leq p \\leq 1\n",
    "\\end{align}\n",
    "\n",
    "Ejemplo\n",
    "\n",
    "Suponga que un lote de 5000 fusibles eléctricos contiene 5% de piezas defectuosas. Si se prueba una muestra de 5 fusibles, encuentre la probabilidad de hallar al menos uno defectuoso.\n",
    "\n",
    "Para este problema tenemos que n = 5, p = 0.05 y q=0.95, entonces procedemos a calcular la probabilidad no hallar ninguno defectuoso\n",
    "\n",
    "\\begin{align}\n",
    "p(0) & = \\binom{5}{0}p^0q^{5-0} \\\\\n",
    "p(0) & = 0.774\n",
    "\\end{align}\n",
    "\n",
    "Con esto procedemos a calcular la probabilidad de calcular mas de uno defectuoso, que estaría dada por:\n",
    "\n",
    "\\begin{align}\n",
    "p(al menos uno defectuoso) & = 1-p(0) \\\\\n",
    "p(al menos uno defectuoso) & = 1-0.774 \\\\\n",
    "p(al menos uno defectuoso) & = 1-0.226\n",
    "\\end{align}"
   ]
  },
  {
   "cell_type": "code",
   "execution_count": 51,
   "metadata": {},
   "outputs": [
    {
     "name": "stdout",
     "output_type": "stream",
     "text": [
      "[1] \"probabilidad de al menos uno\"\n"
     ]
    },
    {
     "data": {
      "text/html": [
       "0.2262190625"
      ],
      "text/latex": [
       "0.2262190625"
      ],
      "text/markdown": [
       "0.2262190625"
      ],
      "text/plain": [
       "[1] 0.2262191"
      ]
     },
     "metadata": {},
     "output_type": "display_data"
    },
    {
     "name": "stdout",
     "output_type": "stream",
     "text": [
      "[1] \"probabilidad acumulada de al menos uno\"\n"
     ]
    },
    {
     "data": {
      "text/html": [
       "0.0225925"
      ],
      "text/latex": [
       "0.0225925"
      ],
      "text/markdown": [
       "0.0225925"
      ],
      "text/plain": [
       "[1] 0.0225925"
      ]
     },
     "metadata": {},
     "output_type": "display_data"
    }
   ],
   "source": [
    "#utilizando la función dbinom procedemos a calcular la probabilidad \n",
    "#de encontrar 0 errores o p(0)\n",
    "p0 <- dbinom(0,5,0.05)\n",
    "#luego para calcular que exista al menos uno debemos calcular 1 - p(0)\n",
    "p_almenos_uno <- 1 - p0\n",
    "print('probabilidad de al menos uno')\n",
    "p_almenos_uno\n",
    "#vemos que el resultado es 0.226 así como lo habíamos calculado \n",
    "#ahora veamos qué pasa cuando lo calculamos a través de la \n",
    "#función acumulada\n",
    "p_almenos_uno_ <- pbinom(1,5,0.05, lower.tail = F)\n",
    "print('probabilidad acumulada de al menos uno')\n",
    "p_almenos_uno_\n",
    "#vemos que la distribución acumulada nos devuelve 0.2259\n",
    "#un valor bastante cercano a la aproximación inicial"
   ]
  },
  {
   "cell_type": "markdown",
   "metadata": {},
   "source": [
    "## Distribucion Geometrica\n",
    "La distribución de probabilidad geométrica comparte muchas similitudes con la distribución de probabilidad binomial, ambas se basan en resultados con dos opciones, 1 ó 0, verdadero o falso, sí o no, y comparten las mismas características, la diferencia principal es que la distribución binomial se basa en la cantidad de éxitos que existen en n pruebas, mientras que la distribución geométrica la variable aleatoria Y se basa en el número de prueba en el que se encuentra el primer éxito. \n",
    "\n",
    "Se dice entonces que la funcion de distribucion de probabilidades de una distribución geométrica está dada por:\n",
    "\n",
    "\\begin{align}\n",
    "p(y) & = q^{y-1}p\n",
    "\\end{align}\n",
    "\n",
    "Donde,\n",
    "\n",
    "\\begin{align}\n",
    "y = 1,2,3, \\dots, n\n",
    "0 \\leq p \\leq 1\n",
    "\\end{align}\n",
    "\n",
    "Ejemplo\n",
    "Suponga que la probabilidad de mal funcionamiento de un motor durante cualquier periodo de una hora es p = .02. Encuentre la probabilidad de que un motor determinado funcione bien dos horas.\n",
    "\n",
    "Sea Y el número de horas en las que funciona bien un motor, entonces\n",
    "\n",
    "\\begin{align}\n",
    "P(funcione bien dos horas) = P(y \\geq 3)\n",
    "\\end{align}\n",
    "\n",
    "Entonces,\n",
    "\n",
    "\\begin{align}\n",
    "P(y \\geq 3) & = 1 - \\sum_{i=1}^{2}P(y_i) \\\\\\\\\n",
    "P(1) & = p \\\\\\\\\n",
    "P(2) & = qp \\\\\\\\\n",
    "P(y \\geq 3) & = 1 - (p + qp) \\\\\\\\\n",
    "P(y \\geq 3) & = 1 - (0.2 + 0.98 \\times 0.2) \\\\\\\\\n",
    "P(y \\geq 3) & = 0.9604\n",
    "\\end{align}"
   ]
  },
  {
   "cell_type": "code",
   "execution_count": 52,
   "metadata": {},
   "outputs": [
    {
     "name": "stdout",
     "output_type": "stream",
     "text": [
      "[1] \"probablidad para y >= 3\"\n"
     ]
    },
    {
     "data": {
      "text/html": [
       "0.9604"
      ],
      "text/latex": [
       "0.9604"
      ],
      "text/markdown": [
       "0.9604"
      ],
      "text/plain": [
       "[1] 0.9604"
      ]
     },
     "metadata": {},
     "output_type": "display_data"
    },
    {
     "name": "stdout",
     "output_type": "stream",
     "text": [
      "[1] \"probablidad para y >= 3\"\n"
     ]
    },
    {
     "data": {
      "text/html": [
       "0.9604"
      ],
      "text/latex": [
       "0.9604"
      ],
      "text/markdown": [
       "0.9604"
      ],
      "text/plain": [
       "[1] 0.9604"
      ]
     },
     "metadata": {},
     "output_type": "display_data"
    }
   ],
   "source": [
    "#Utilizando la función dgeom, vamos a calcular p(1)\n",
    "#tome nota que el primer parámetro de la función es y-1\n",
    "#por lo que para y=1 el primer parámetro es 0\n",
    "p1 <- dgeom(0,0.02)\n",
    "#luego calculamos p(2)\n",
    "p2 <- dgeom(1,0.02)\n",
    "#y finalmente para calcular p(y>=3)=1-p(1)-p(2)\n",
    "p_mayor_igual_3 <- 1-p1-p2\n",
    "print('probablidad para y >= 3')\n",
    "p_mayor_igual_3\n",
    "#vemos que el resultado es 0.9604\n",
    "#ahora bien si lo calculamos mediante la distribución acumulada\n",
    "#tomando en cuenta la acumulada para p(2) y nuevamente\n",
    "#el primer parámetro es y-1\n",
    "print('probablidad para y >= 3')\n",
    "pgeom(1, 0.02, lower.tail = F)\n",
    "#como vemos obtenemos el mismo resultado que con el cálculo anterior"
   ]
  },
  {
   "cell_type": "markdown",
   "metadata": {},
   "source": [
    "## Distribucion de Poisson\n",
    "La distribución de Poisson es un modelo para brindar probabilidades cuando la variable aleatorio Y ocurren en eventos raros que se dan en un espacio de tiempo, donde se define a  como el valor promedio de Y. Por lo tanto una distribución de Poisson esta data por:\n",
    "\n",
    "\\begin{align}\n",
    "p(y) = \\frac{\\lambda^y}{y!}\\mathrm{e}^{-\\lambda}\n",
    "\\end{align}\n",
    "\n",
    "Donde,\n",
    "\n",
    "\\begin{align}\n",
    "y & = 0,1,2,\\dots,n \\\\\\\\\n",
    "\\lambda & > 0\n",
    "\\end{align}\n",
    "\n",
    "Ejemplo\n",
    "Suponga que se diseña un sistema aleatorio de patrulla de policía para que un oficial de patrulla pueda estar en un lugar de su ruta $Y = 0, 1, 2, 3, \\dots$ veces por periodo de media hora, con cada lugar visitado un promedio de una vez por periodo. Suponga que Y posee, aproximadamente, una distribución de probabilidad de Poisson. Calcule la probabilidad de que el oficial de patrulla no llegue a un lugar determinado durante un periodo de media hora. ¿Cuál es la probabilidad de que el lugar sea visitado una vez? ¿Dos veces? ¿Al menos una vez?\n",
    "\n",
    "Para este ejemplo tomamos que $\\lambda=1$ dado que el periodo medio es media hora y la tasa de llegada es de 1, por lo tanto\n",
    "\n",
    "\\begin{align}\n",
    "p(y) & = \\frac{1^y\\mathrm{e}^{-1}}{y!} \\\\\\\\\n",
    "p(y) & = \\frac{\\mathrm{e}^{-1}}{y!}\n",
    "\\end{align}\n",
    "\n",
    "La probabilidad de que el lugar no sea visitado esta dado por p(0), por lo tanto\n",
    "\n",
    "\\begin{align}\n",
    "p(y) & = \\frac{\\mathrm{e}^{-1}}{0!} \\\\\\\\\n",
    "p(y) & = 0.368\n",
    "\\end{align}\n",
    "\n",
    "Por lo tanto, que el lugar sea visitado al menos una vez está dado por\n",
    "\n",
    "\\begin{align}\n",
    "p(Y \\geq 1) & = 1- p(0) \\\\\\\\\n",
    "p(Y \\geq 1) & = 0.632\n",
    "\\end{align}"
   ]
  },
  {
   "cell_type": "code",
   "execution_count": 54,
   "metadata": {},
   "outputs": [
    {
     "name": "stdout",
     "output_type": "stream",
     "text": [
      "[1] \"probabilidad 1-p(0)\"\n"
     ]
    },
    {
     "data": {
      "text/html": [
       "0.632120558828558"
      ],
      "text/latex": [
       "0.632120558828558"
      ],
      "text/markdown": [
       "0.632120558828558"
      ],
      "text/plain": [
       "[1] 0.6321206"
      ]
     },
     "metadata": {},
     "output_type": "display_data"
    },
    {
     "name": "stdout",
     "output_type": "stream",
     "text": [
      "[1] \"probabilidad acumulada\"\n"
     ]
    },
    {
     "data": {
      "text/html": [
       "0.632120558828558"
      ],
      "text/latex": [
       "0.632120558828558"
      ],
      "text/markdown": [
       "0.632120558828558"
      ],
      "text/plain": [
       "[1] 0.6321206"
      ]
     },
     "metadata": {},
     "output_type": "display_data"
    }
   ],
   "source": [
    "#En R podemos utilizar la función dpois, donde el primer parámetro es\n",
    "#y y el segundo parámetro es lambda, por lo tanto \n",
    "p0 <- dpois(0,1)\n",
    "#finalmente p >= 1 esta dado por \n",
    "print('probabilidad 1-p(0)')\n",
    "1-p0\n",
    "#que esto nos devuelve 0.6321206\n",
    "#ahora bien utilizando la función de distribución acumulada podemos \n",
    "#calcularlo de esta manera\n",
    "print('probabilidad acumulada')\n",
    "ppois(0,1,lower.tail = F)\n",
    "#que al calcularlo nos devuelve exactamente el mismo resultado"
   ]
  },
  {
   "cell_type": "markdown",
   "metadata": {},
   "source": [
    "## Variables Aleatorias Continuas\n",
    "Hemos estudiado variables aleatorias sobre eventos discretos, como la combinación de dos monedas o el lanzamiento de un dado, pero qué sucede cuando nuestros eventos son la cantidad de lluvia que cae en espacio determinado, en este tipo de eventos se podría decir que la variable aleatoria puede tener valores entre 0 a N mililitros de agua, lo cual vemos que es un evento de valores continuos donde $N \\in \\mathbb{R}$, es aquí donde las funciones de probabilidades toman otro sentido completamente.\n",
    "\n",
    "Por lo tanto una variable aleatoria Y con función de distribución F(y) se dice que es continua si F(y) es continua para $-\\infty<y<\\infty$."
   ]
  },
  {
   "cell_type": "code",
   "execution_count": 1,
   "metadata": {},
   "outputs": [
    {
     "data": {
      "image/png": "[encoded data removed]",
      "text/plain": [
       "plot without title"
      ]
     },
     "metadata": {},
     "output_type": "display_data"
    }
   ],
   "source": [
    "#definimos una función x^2\n",
    "f <- function(x){x^2}\n",
    "#procedemos a graficar dicha función en un intervalo de 1 a 1000\n",
    "plot(f(1:1000), type='l')"
   ]
  },
  {
   "cell_type": "markdown",
   "metadata": {},
   "source": [
    "Sea F(y) la función de distribución para una variable aleatoria continua Y. Entonces f(y), dada por:\n",
    "\n",
    "\\begin{align}\n",
    "f(y) = \\frac{\\partial F(y)}{\\partial y}\n",
    "\\end{align}\n",
    "\n",
    "Por lo que podemos decir entonces:\n",
    "\\begin{align}\n",
    "F(y) = \\int_{-\\infty}^{y}f(t)\\partial t\n",
    "\\end{align}\n",
    "\n",
    "Por lo tanto las funciones de densidad tienen las siguientes características:\n",
    "\n",
    "* $f(y) \\geq 0$ para toda $y, -\\infty < y < \\infty$\n",
    "\n",
    "* $\\int_{-\\infty}^{\\infty} f(y) \\partial y = 1$\n",
    "\n",
    "Ejemplo\n",
    "\n",
    "Para el intervalo $0 \\geq x \\geq 2$, compruebe que $f(x)=\\frac{3}{8}x^2$ es una función de densidad válida."
   ]
  },
  {
   "cell_type": "code",
   "execution_count": 2,
   "metadata": {},
   "outputs": [
    {
     "data": {
      "text/html": [
       "1.5"
      ],
      "text/latex": [
       "1.5"
      ],
      "text/markdown": [
       "1.5"
      ],
      "text/plain": [
       "[1] 1.5"
      ]
     },
     "metadata": {},
     "output_type": "display_data"
    },
    {
     "data": {
      "text/plain": [
       "1 with absolute error < 1.1e-14"
      ]
     },
     "metadata": {},
     "output_type": "display_data"
    }
   ],
   "source": [
    "#primero vamos a definir nuestra función de densidad\n",
    "f <- function(x){\n",
    "  (3/8)*x^2\n",
    "}\n",
    "#probamos nuestra función\n",
    "f(2)\n",
    "#vemos lo sencillo que es definir una función en R\n",
    "#ahora para comprobar que f(x) es una función de densidad\n",
    "#para el intervalo 0<x<2 debemos integrar y evaluar para dicho\n",
    "#intervalo, para ello utilizamos la función integrate\n",
    "integrate(f,0,2)\n",
    "#como vemos esta función nos pide la función y los límites\n",
    "#superior e inferior, la respuesta que nos devuelve es 1\n",
    "#con un error absoluto de 1.1e-14"
   ]
  },
  {
   "cell_type": "markdown",
   "metadata": {},
   "source": [
    "Ejemplo\n",
    "\n",
    "Sea Y una variable aleatoria continua con función de densidad de probabilidad dada por\n",
    "\n",
    "\\begin{align}\n",
    "f(x) = \\begin{cases}\n",
    "    3x^2, &\\quad 0 \\leq y \\leq 2 \\\\\n",
    "    0, &\\quad\\text{en cualquier otro punto}\\\\\n",
    "    \\end{cases}\n",
    "\\end{align}\n",
    "\n",
    "Encuentre F(y). Grafique f(y) y F(y)"
   ]
  },
  {
   "cell_type": "code",
   "execution_count": 4,
   "metadata": {},
   "outputs": [
    {
     "name": "stdout",
     "output_type": "stream",
     "text": [
      "[1] \"f(0)\"\n"
     ]
    },
    {
     "data": {
      "text/html": [
       "0"
      ],
      "text/latex": [
       "0"
      ],
      "text/markdown": [
       "0"
      ],
      "text/plain": [
       "[1] 0"
      ]
     },
     "metadata": {},
     "output_type": "display_data"
    },
    {
     "name": "stdout",
     "output_type": "stream",
     "text": [
      "[1] \"f(0.5)\"\n"
     ]
    },
    {
     "data": {
      "text/html": [
       "0.75"
      ],
      "text/latex": [
       "0.75"
      ],
      "text/markdown": [
       "0.75"
      ],
      "text/plain": [
       "[1] 0.75"
      ]
     },
     "metadata": {},
     "output_type": "display_data"
    },
    {
     "name": "stdout",
     "output_type": "stream",
     "text": [
      "[1] \"f(1)\"\n"
     ]
    },
    {
     "data": {
      "text/html": [
       "3"
      ],
      "text/latex": [
       "3"
      ],
      "text/markdown": [
       "3"
      ],
      "text/plain": [
       "[1] 3"
      ]
     },
     "metadata": {},
     "output_type": "display_data"
    },
    {
     "name": "stdout",
     "output_type": "stream",
     "text": [
      "[1] \"f(2)\"\n"
     ]
    },
    {
     "data": {
      "text/html": [
       "0"
      ],
      "text/latex": [
       "0"
      ],
      "text/markdown": [
       "0"
      ],
      "text/plain": [
       "[1] 0"
      ]
     },
     "metadata": {},
     "output_type": "display_data"
    },
    {
     "name": "stdout",
     "output_type": "stream",
     "text": [
      "[1] \"integral de f(0,1)\"\n"
     ]
    },
    {
     "data": {
      "text/plain": [
       "1 with absolute error < 1.1e-14"
      ]
     },
     "metadata": {},
     "output_type": "display_data"
    },
    {
     "data": {
      "image/png": "[encoded data removed]",
      "text/plain": [
       "Plot with title “Funcion de Densidad”"
      ]
     },
     "metadata": {},
     "output_type": "display_data"
    },
    {
     "data": {
      "image/png": "[encoded data removed]",
      "text/plain": [
       "Plot with title “Funcion de Probabilidad”"
      ]
     },
     "metadata": {},
     "output_type": "display_data"
    }
   ],
   "source": [
    "#primero definimos la función de densidad\n",
    "f <- function(y){\n",
    "  ifelse(y >= 0 & y <= 1, 3*y^2, 0)\n",
    "}\n",
    "#nótese que utilizamos un if donde si 0 < y < 1 devuelve 3y^2 y 0 para \n",
    "#cualquier otro caso, ahora probemos que nuestra función es correcta\n",
    "print('f(0)')\n",
    "f(0)\n",
    "print('f(0.5)')\n",
    "f(0.5)\n",
    "print('f(1)')\n",
    "f(1)\n",
    "print('f(2)')\n",
    "f(2)\n",
    "#una vez validad nuestra función procedamos a validar si es una \n",
    "#función de densidad válida, esto utilizando el comando de \n",
    "#integracion\n",
    "print('integral de f(0,1)')\n",
    "integrate(f,0,1)\n",
    "#vemos que devuelve 1 por lo que podemos proseguir\n",
    "#ahora definimos F que estará definida fprob por facilidad\n",
    "fprob <- function(y){\n",
    "  ifelse(y >= 0 & y <= 1, y^3,ifelse(y>1,1,0))\n",
    "}\n",
    "#como sabemos que la integral de 3y^2 = y^3 definimos la función\n",
    "#en los mismo intervalos de la función de densidad\n",
    "#ahora vamos a graficar f(y)\n",
    "plot(f,-2,2, type='l', main='Funcion de Densidad', xlab='y', ylab='f(y)')\n",
    "#esto nos genera la gráfica del intervalo -2 a 2 para que veamos la \n",
    "#diferencia en la curva\n",
    "#ahora procedemos a graficar F(y)\n",
    "plot(fprob,-2,2, type='l', main='Funcion de Probabilidad', xlab='y', ylab='F(y)')"
   ]
  },
  {
   "cell_type": "markdown",
   "metadata": {},
   "source": [
    "Como vemos ambas gráficas son muy similares dado los intervalos, siendo la gráfica de F(y) ligeramente más pronunciada que la de f(y). Nótese que para F(y) su valor es 1 para cualquier valor mayor que 1 ya que se trata de una función acumulada de probabilidad."
   ]
  },
  {
   "cell_type": "markdown",
   "metadata": {},
   "source": [
    "## Valor Esperado\n",
    "Ya hemos definido el valor esperado para variables aleatorias discretas, la cual es:\n",
    "\n",
    "\\begin{align}\n",
    "E(Y) = \\sum_{y}yp(y)\n",
    "\\end{align}\n",
    "\n",
    "Para el caso de las variables aleatorias continuas es:\n",
    "\n",
    "\\begin{align}\n",
    "E(Y) = \\int_{-\\infty}^{\\infty}yp(y)\n",
    "\\end{align}\n",
    "\n",
    "Siempre que la integral exista. Así mismo se puede definir que:\n",
    "\\begin{align}\n",
    "V(Y) = E(y - \\mu)^2\n",
    "\\end{align}\n",
    "\n",
    "Lo que es lo mismo a:\n",
    "\\begin{align}\n",
    "V(Y) = E(Y^2) - \\mu^2\n",
    "\\end{align}\n",
    "\n",
    "Ejemplo\n",
    "Para el intervalo $0 \\leq y \\leq 2$ y la función de densidad $f(y)= \\frac{3}{8}y^2$, encuentre E(Y) y V(Y)"
   ]
  },
  {
   "cell_type": "code",
   "execution_count": 6,
   "metadata": {},
   "outputs": [
    {
     "name": "stdout",
     "output_type": "stream",
     "text": [
      "[1] \"Esperado:\"\n"
     ]
    },
    {
     "data": {
      "text/html": [
       "1.5"
      ],
      "text/latex": [
       "1.5"
      ],
      "text/markdown": [
       "1.5"
      ],
      "text/plain": [
       "[1] 1.5"
      ]
     },
     "metadata": {},
     "output_type": "display_data"
    },
    {
     "name": "stdout",
     "output_type": "stream",
     "text": [
      "[1] \"varianza:\"\n"
     ]
    },
    {
     "data": {
      "text/html": [
       "0.15"
      ],
      "text/latex": [
       "0.15"
      ],
      "text/markdown": [
       "0.15"
      ],
      "text/plain": [
       "[1] 0.15"
      ]
     },
     "metadata": {},
     "output_type": "display_data"
    }
   ],
   "source": [
    "#nuevamente iniciamos con nuestra función de densidad\n",
    "f <- function(y){\n",
    "  ifelse(y >=0 & y <= 2, (3/8)*y^2,0 )\n",
    "}\n",
    "#ahora definimos nuestra función de valor esperado como y*f(y)\n",
    "f_esperado <- function(y){\n",
    "  ifelse(y >=0 & y <= 2, y*f(y),0 )\n",
    "}\n",
    "#utilizamos $val para obtener el valor numérico de la integral\n",
    "esperado <- integrate(f_esperado,0,2)$val\n",
    "#con esto vemos que E(y)=1.5\n",
    "print('Esperado:')\n",
    "esperado\n",
    "#ahora como la varianza es igual a E(y^2) - E(y)^2\n",
    "#debemos calcular primero E(y^2) para ello definimos la función\n",
    "#para luego integrar\n",
    "f_e_cuadrado <- function(y){\n",
    "  (y^2)*f(y)\n",
    "}\n",
    "e_cuadrado <- integrate(f_e_cuadrado,0,2)$val\n",
    "#finalmente calculamos la varianza\n",
    "varianza <- e_cuadrado - (esperado^2)\n",
    "print('varianza:')\n",
    "varianza\n",
    "#esto nos devuelve que V(Y) = 0.15"
   ]
  },
  {
   "cell_type": "markdown",
   "metadata": {},
   "source": [
    "## Distribucion Normal\n",
    "Se dice que una variable Y tiene una distribución normal de probabilidad si y sólo si para $\\sigma>0$y $-\\infty<\\mu<\\infty$, la función de densidad de Y es:\n",
    "\n",
    "\\begin{align}\n",
    "f(y) = \\frac{1}{\\sigma \\sqrt{\\prod}}\\mathrm{e}^{\\frac{-(y-\\mu)^2}{2\\sigma^2}}\n",
    "\\end{align}\n",
    "\n",
    "Ejemplo\n",
    "Denote con Z una variable aleatoria normal con media 0 y desviación estándar de 1, encuentre:\n",
    "\n",
    "1. $P(Z >2)$\n",
    "2. $P(-2 \\leq Z \\leq 2)$\n",
    "3. $P(0 \\leq Z \\leq 1.73)$"
   ]
  },
  {
   "cell_type": "code",
   "execution_count": 8,
   "metadata": {},
   "outputs": [
    {
     "name": "stdout",
     "output_type": "stream",
     "text": [
      "[1] \"1.\"\n"
     ]
    },
    {
     "data": {
      "text/html": [
       "0.0227501319481792"
      ],
      "text/latex": [
       "0.0227501319481792"
      ],
      "text/markdown": [
       "0.0227501319481792"
      ],
      "text/plain": [
       "[1] 0.02275013"
      ]
     },
     "metadata": {},
     "output_type": "display_data"
    },
    {
     "name": "stdout",
     "output_type": "stream",
     "text": [
      "[1] \"2.\"\n"
     ]
    },
    {
     "data": {
      "text/html": [
       "0.954499736103642"
      ],
      "text/latex": [
       "0.954499736103642"
      ],
      "text/markdown": [
       "0.954499736103642"
      ],
      "text/plain": [
       "[1] 0.9544997"
      ]
     },
     "metadata": {},
     "output_type": "display_data"
    },
    {
     "name": "stdout",
     "output_type": "stream",
     "text": [
      "[1] \"3.\"\n"
     ]
    },
    {
     "data": {
      "text/html": [
       "0.458184862386405"
      ],
      "text/latex": [
       "0.458184862386405"
      ],
      "text/markdown": [
       "0.458184862386405"
      ],
      "text/plain": [
       "[1] 0.4581849"
      ]
     },
     "metadata": {},
     "output_type": "display_data"
    }
   ],
   "source": [
    "#1 para z>2 usamos pnorm como distribución acumulada\n",
    "print('1.')\n",
    "pnorm(2, mean=0, sd=1, lower.tail=FALSE) \n",
    "#el resultado nos da 0.02275\n",
    "\n",
    "#2 Para -2<Z<2 primero calculamos pnorm para -2 utilizando\n",
    "#el corrimiento de acumulado hacia la izquierda\n",
    "#porque lo que lower.tail = True\n",
    "#luego calculamos para 2 y esto nos da las cuotas que \n",
    "#queremos excluir por lo que la probabilidad está dada por\n",
    "print('2.')\n",
    "1-pnorm(-2, mean=0, sd=1, lower.tail=TRUE)- pnorm(2, mean=0, sd=1, lower.tail=FALSE)\n",
    "#esto nos devuelve 0.9544\n",
    "\n",
    "#3 para 0<Z<1.73 es el mismo escenario que el inciso 2 por lo que\n",
    "print('3.')\n",
    "1-pnorm(0, mean=0, sd=1, lower.tail=TRUE)- pnorm(1.73, mean=0, sd=1, lower.tail=FALSE)\n",
    "#el resultado es 0.4581849"
   ]
  }
 ],
 "metadata": {
  "kernelspec": {
   "display_name": "R",
   "language": "R",
   "name": "ir"
  },
  "language_info": {
   "codemirror_mode": "r",
   "file_extension": ".r",
   "mimetype": "text/x-r-source",
   "name": "R",
   "pygments_lexer": "r",
   "version": "3.4.1"
  }
 },
 "nbformat": 4,
 "nbformat_minor": 2
}
